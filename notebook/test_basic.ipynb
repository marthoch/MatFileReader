{
 "cells": [
  {
   "cell_type": "code",
   "execution_count": 1,
   "id": "528c9d36",
   "metadata": {},
   "outputs": [],
   "source": [
    "import sys\n",
    "sys.path.insert(0, r'../src')"
   ]
  },
  {
   "cell_type": "code",
   "execution_count": 2,
   "id": "e7b03545",
   "metadata": {},
   "outputs": [],
   "source": [
    "%load_ext autoreload\n",
    "%autoreload 2"
   ]
  },
  {
   "cell_type": "code",
   "execution_count": 3,
   "id": "0a1b24d3",
   "metadata": {},
   "outputs": [],
   "source": [
    "from matFileReader import MatHDF5Reader"
   ]
  },
  {
   "cell_type": "code",
   "execution_count": 4,
   "id": "ed980bc2",
   "metadata": {},
   "outputs": [
    {
     "name": "stdout",
     "output_type": "stream",
     "text": [
      " Volume in drive C is Windows\n",
      " Volume Serial Number is 40DE-1C60\n",
      "\n",
      " Directory of C:\\data\\GitHub\\MatFileReader\\test\n",
      "\n",
      "2021-05-23  21:29    <DIR>          .\n",
      "2021-05-23  21:29    <DIR>          ..\n",
      "2021-05-30  21:14               364 test_basic.m\n",
      "2021-05-30  21:14            34ÿ512 test_basic.mat\n",
      "               2 File(s)         34ÿ876 bytes\n",
      "               2 Dir(s)  67ÿ175ÿ825ÿ408 bytes free\n"
     ]
    }
   ],
   "source": [
    "%ls ..\\test"
   ]
  },
  {
   "cell_type": "raw",
   "id": "1ffedba2",
   "metadata": {},
   "source": [
    "mat.close()  # only for the case of rerunning the code"
   ]
  },
  {
   "cell_type": "code",
   "execution_count": 5,
   "id": "a4aaba42",
   "metadata": {},
   "outputs": [
    {
     "data": {
      "text/plain": [
       "MatHDF5Reader('..\\test\\test_basic.mat')\n",
       "open: True\n",
       "path: /"
      ]
     },
     "execution_count": 5,
     "metadata": {},
     "output_type": "execute_result"
    }
   ],
   "source": [
    "mat = MatHDF5Reader(r'..\\test\\test_basic.mat')\n",
    "mat"
   ]
  },
  {
   "cell_type": "code",
   "execution_count": 6,
   "id": "88a2edb0",
   "metadata": {},
   "outputs": [
    {
     "name": "stdout",
     "output_type": "stream",
     "text": [
      "/\n",
      "data         : group\n"
     ]
    }
   ],
   "source": [
    "mat.ls()"
   ]
  },
  {
   "cell_type": "code",
   "execution_count": 7,
   "id": "f5c9cedf",
   "metadata": {},
   "outputs": [],
   "source": [
    "mat.cd('data')"
   ]
  },
  {
   "cell_type": "code",
   "execution_count": 8,
   "id": "4db07aa1",
   "metadata": {},
   "outputs": [
    {
     "name": "stdout",
     "output_type": "stream",
     "text": [
      "/data\n",
      "array        : float64 (19, 1)\n",
      "cel          : cell array\n",
      "cel2         : cell array\n",
      "text         : uint16 (4, 1)\n",
      "val001       : float64\n",
      "val002       : float64\n"
     ]
    }
   ],
   "source": [
    "mat.ls()"
   ]
  },
  {
   "cell_type": "code",
   "execution_count": 9,
   "id": "9325790c",
   "metadata": {},
   "outputs": [
    {
     "data": {
      "text/plain": [
       "1.0"
      ]
     },
     "execution_count": 9,
     "metadata": {},
     "output_type": "execute_result"
    }
   ],
   "source": [
    "mat['val001']"
   ]
  },
  {
   "cell_type": "code",
   "execution_count": 10,
   "id": "4fe3a8e6",
   "metadata": {},
   "outputs": [
    {
     "data": {
      "text/plain": [
       "3.141592653589793"
      ]
     },
     "execution_count": 10,
     "metadata": {},
     "output_type": "execute_result"
    }
   ],
   "source": [
    "mat['val002']"
   ]
  },
  {
   "cell_type": "code",
   "execution_count": 11,
   "id": "9f9bac45",
   "metadata": {},
   "outputs": [
    {
     "data": {
      "text/plain": [
       "array([[ 1. ,  1.5,  2. ,  2.5,  3. ,  3.5,  4. ,  4.5,  5. ,  5.5,  6. ,\n",
       "         6.5,  7. ,  7.5,  8. ,  8.5,  9. ,  9.5, 10. ]])"
      ]
     },
     "execution_count": 11,
     "metadata": {},
     "output_type": "execute_result"
    }
   ],
   "source": [
    "mat['array']"
   ]
  },
  {
   "cell_type": "code",
   "execution_count": 12,
   "id": "dddaacc1",
   "metadata": {},
   "outputs": [
    {
     "data": {
      "text/plain": [
       "array([[ 1.,  2.,  3.,  4.,  5.,  6.,  7.,  8.,  9., 10.]])"
      ]
     },
     "execution_count": 12,
     "metadata": {},
     "output_type": "execute_result"
    }
   ],
   "source": [
    "mat['cel'][0]"
   ]
  },
  {
   "cell_type": "code",
   "execution_count": 13,
   "id": "81267778",
   "metadata": {},
   "outputs": [
    {
     "data": {
      "text/plain": [
       "array([[ 2.,  4.,  6.,  8., 10., 12., 14., 16., 18., 20.]])"
      ]
     },
     "execution_count": 13,
     "metadata": {},
     "output_type": "execute_result"
    }
   ],
   "source": [
    "mat['cel'][1]"
   ]
  },
  {
   "cell_type": "code",
   "execution_count": 14,
   "id": "e12f2dd0",
   "metadata": {},
   "outputs": [
    {
     "data": {
      "text/plain": [
       "array([[ 1.,  2.,  3.,  4.,  5.,  6.,  7.,  8.,  9., 10.]])"
      ]
     },
     "metadata": {},
     "output_type": "display_data"
    },
    {
     "data": {
      "text/plain": [
       "array([[ 2.,  4.,  6.,  8., 10., 12., 14., 16., 18., 20.]])"
      ]
     },
     "metadata": {},
     "output_type": "display_data"
    },
    {
     "data": {
      "text/plain": [
       "array([[ 3.,  6.,  9., 12., 15., 18., 21., 24., 27., 30.]])"
      ]
     },
     "metadata": {},
     "output_type": "display_data"
    },
    {
     "data": {
      "text/plain": [
       "array([[ 4.,  8., 12., 16., 20., 24., 28., 32., 36., 40.]])"
      ]
     },
     "metadata": {},
     "output_type": "display_data"
    },
    {
     "data": {
      "text/plain": [
       "array([[ 5., 10., 15., 20., 25., 30., 35., 40., 45., 50.]])"
      ]
     },
     "metadata": {},
     "output_type": "display_data"
    },
    {
     "data": {
      "text/plain": [
       "array([[ 6., 12., 18., 24., 30., 36., 42., 48., 54., 60.]])"
      ]
     },
     "metadata": {},
     "output_type": "display_data"
    },
    {
     "data": {
      "text/plain": [
       "array([[ 7., 14., 21., 28., 35., 42., 49., 56., 63., 70.]])"
      ]
     },
     "metadata": {},
     "output_type": "display_data"
    },
    {
     "data": {
      "text/plain": [
       "array([[ 8., 16., 24., 32., 40., 48., 56., 64., 72., 80.]])"
      ]
     },
     "metadata": {},
     "output_type": "display_data"
    },
    {
     "data": {
      "text/plain": [
       "array([[ 9., 18., 27., 36., 45., 54., 63., 72., 81., 90.]])"
      ]
     },
     "metadata": {},
     "output_type": "display_data"
    },
    {
     "data": {
      "text/plain": [
       "array([[ 10.,  20.,  30.,  40.,  50.,  60.,  70.,  80.,  90., 100.]])"
      ]
     },
     "metadata": {},
     "output_type": "display_data"
    }
   ],
   "source": [
    "for v in mat['cel']:\n",
    "    display(v)"
   ]
  },
  {
   "cell_type": "code",
   "execution_count": 15,
   "id": "88ad4d54",
   "metadata": {},
   "outputs": [
    {
     "data": {
      "text/plain": [
       "array([[116, 101, 115, 116]], dtype=uint16)"
      ]
     },
     "execution_count": 15,
     "metadata": {},
     "output_type": "execute_result"
    }
   ],
   "source": [
    "mat['text']"
   ]
  },
  {
   "cell_type": "code",
   "execution_count": 16,
   "id": "1db8fbf9",
   "metadata": {},
   "outputs": [
    {
     "data": {
      "text/plain": [
       "'test'"
      ]
     },
     "execution_count": 16,
     "metadata": {},
     "output_type": "execute_result"
    }
   ],
   "source": [
    "mat.get_as_str('text')"
   ]
  },
  {
   "cell_type": "code",
   "execution_count": null,
   "id": "8aeac017",
   "metadata": {},
   "outputs": [],
   "source": []
  },
  {
   "cell_type": "code",
   "execution_count": 19,
   "id": "54707c58",
   "metadata": {},
   "outputs": [
    {
     "data": {
      "text/plain": [
       "MatHDF5Reader_cellarray(/data/cel2)"
      ]
     },
     "execution_count": 19,
     "metadata": {},
     "output_type": "execute_result"
    }
   ],
   "source": [
    "ca = mat['cel2']\n",
    "ca"
   ]
  },
  {
   "cell_type": "code",
   "execution_count": 21,
   "id": "0a155154",
   "metadata": {},
   "outputs": [
    {
     "data": {
      "text/plain": [
       "MatHDF5Reader('..\\test\\test_basic.mat')\n",
       "open: True\n",
       "path: /#refs#/l"
      ]
     },
     "execution_count": 21,
     "metadata": {},
     "output_type": "execute_result"
    }
   ],
   "source": [
    "ds = ca[0]\n",
    "ds"
   ]
  },
  {
   "cell_type": "code",
   "execution_count": 22,
   "id": "9fec52c0",
   "metadata": {},
   "outputs": [
    {
     "name": "stdout",
     "output_type": "stream",
     "text": [
      "/#refs#/l\n",
      "i            : float64\n",
      "x            : float64 (10, 1)\n"
     ]
    }
   ],
   "source": [
    "ds.ls()"
   ]
  },
  {
   "cell_type": "code",
   "execution_count": 24,
   "id": "23e0d609",
   "metadata": {},
   "outputs": [
    {
     "data": {
      "text/plain": [
       "1.0"
      ]
     },
     "execution_count": 24,
     "metadata": {},
     "output_type": "execute_result"
    }
   ],
   "source": [
    "ds['i']"
   ]
  },
  {
   "cell_type": "code",
   "execution_count": 25,
   "id": "4c98dbc0",
   "metadata": {},
   "outputs": [
    {
     "data": {
      "text/plain": [
       "array([[ 1.,  2.,  3.,  4.,  5.,  6.,  7.,  8.,  9., 10.]])"
      ]
     },
     "execution_count": 25,
     "metadata": {},
     "output_type": "execute_result"
    }
   ],
   "source": [
    "ds['x']"
   ]
  },
  {
   "cell_type": "code",
   "execution_count": null,
   "id": "905623a5",
   "metadata": {},
   "outputs": [],
   "source": []
  }
 ],
 "metadata": {
  "kernelspec": {
   "display_name": "Python 3",
   "language": "python",
   "name": "python3"
  },
  "language_info": {
   "codemirror_mode": {
    "name": "ipython",
    "version": 3
   },
   "file_extension": ".py",
   "mimetype": "text/x-python",
   "name": "python",
   "nbconvert_exporter": "python",
   "pygments_lexer": "ipython3",
   "version": "3.8.8"
  }
 },
 "nbformat": 4,
 "nbformat_minor": 5
}
